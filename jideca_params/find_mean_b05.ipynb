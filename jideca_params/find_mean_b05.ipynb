{
 "cells": [
  {
   "cell_type": "code",
   "execution_count": null,
   "metadata": {},
   "outputs": [],
   "source": [
    "import glob\n",
    "import argparse\n",
    "import pandas as pd\n",
    "import seaborn as sns\n",
    "import matplotlib.pyplot as plt\n",
    "\n",
    "evaluation_methods = ['ari', 'nmi', 'purity']\n",
    "ari_best_result = dict()\n",
    "nmi_best_result = dict()\n",
    "purity_best_result = dict()\n"
   ]
  },
  {
   "cell_type": "code",
   "execution_count": null,
   "metadata": {},
   "outputs": [],
   "source": [
    "total = 0\n",
    "for dirs in glob.glob('beta_05/*'):\n",
    "    for em in evaluation_methods:\n",
    "        with open(dirs + '/' + em + '/total_best_result.txt') as f:\n",
    "            lines = f.read().splitlines()\n",
    "            for i, line in enumerate(lines):\n",
    "                if i == 0: continue\n",
    "                line = line.split('=')[-1].split(':')\n",
    "                k, v = line[0].strip(), line[-1].strip()\n",
    "                if em == 'ari':\n",
    "                    if k in ari_best_result:\n",
    "                        ari_best_result[k] += float(v)\n",
    "                    else:\n",
    "                        ari_best_result[k] = float(v)\n",
    "                elif em == 'nmi':\n",
    "                    if k in nmi_best_result:\n",
    "                        nmi_best_result[k] += float(v)\n",
    "                    else:\n",
    "                        nmi_best_result[k] = float(v)\n",
    "                else:\n",
    "                    if k in purity_best_result:\n",
    "                        purity_best_result[k] += float(v.split('%')[0])\n",
    "                    else:\n",
    "                        purity_best_result[k] = float(v.split('%')[0])\n",
    "    total += 1\n"
   ]
  },
  {
   "cell_type": "code",
   "execution_count": null,
   "metadata": {},
   "outputs": [],
   "source": [
    "for k, v in ari_best_result.items():\n",
    "    ari_best_result[k] = round(v / total, 3)\n",
    "for k, v in nmi_best_result.items():\n",
    "    nmi_best_result[k] = round(v / total, 3)\n",
    "for k, v in purity_best_result.items():\n",
    "    purity_best_result[k] = round(v / (total * 100), 3)\n",
    "\n",
    "print(ari_best_result)\n",
    "print(nmi_best_result)\n",
    "print(purity_best_result)"
   ]
  },
  {
   "cell_type": "code",
   "execution_count": null,
   "metadata": {},
   "outputs": [],
   "source": [
    "df_ari = pd.DataFrame(list(ari_best_result.items()), columns=['parameters', 'ari'])\n",
    "df_nmi = pd.DataFrame(list(nmi_best_result.items()), columns=['parameters', 'nmi'])\n",
    "df_purity = pd.DataFrame(list(purity_best_result.items()), columns=['parameters', 'purity'])\n",
    "\n",
    "df_ari['simple'] = df_ari['parameters'].apply(lambda x: x.split('_')[1].split('g')[1][0:])\n",
    "#df_ari['simple'] = df_ari['simple'].apply(lambda x: float('0.' + x[1]) if x[0] == '0' else float(x))\n",
    "df_ari['simple'] = df_ari['simple'].apply(lambda x: '0.' + x[1] if x[0] == '0' else x[0:-2])\n",
    "df_ari['types'] = df_ari['parameters'].apply(lambda x:x.split('_')[1][-2:])\n",
    "df_ari['types'] = df_ari['types'].apply(lambda x: 'real' if x == 're' else 'semantic')\n",
    "\n",
    "df_nmi['simple'] = df_nmi['parameters'].apply(lambda x:x.split('_')[1].split('g')[1][0:])\n",
    "#df_nmi['simple'] = df_nmi['simple'].apply(lambda x: float('0.' + x[1]) if x[0] == '0' else float(x))\n",
    "df_nmi['simple'] = df_nmi['simple'].apply(lambda x: '0.' + x[1] if x[0] == '0' else x[0:-2])\n",
    "df_nmi['types'] = df_nmi['parameters'].apply(lambda x:x.split('_')[1][-2:])\n",
    "df_nmi['types'] = df_nmi['types'].apply(lambda x: 'real' if x == 're' else 'semantic')\n",
    "\n",
    "df_purity['simple'] = df_purity['parameters'].apply(lambda x:x.split('_')[1].split('g')[1][0:])\n",
    "#df_purity['simple'] = df_purity['simple'].apply(lambda x: float('0.' + x[1]) if x[0] == '0' else float(x))\n",
    "df_purity['simple'] = df_purity['simple'].apply(lambda x: '0.' + x[1] if x[0] == '0' else x[0:-2])\n",
    "df_purity['types'] = df_purity['parameters'].apply(lambda x:x.split('_')[1][-2:])\n",
    "df_purity['types'] = df_purity['types'].apply(lambda x: 'real' if x == 're' else 'semantic')"
   ]
  },
  {
   "cell_type": "code",
   "execution_count": null,
   "metadata": {},
   "outputs": [],
   "source": [
    "# Adjust values with previous experiments\n",
    "df_ari.loc[df_ari['parameters'] == 'jideca_b05g01se_34', 'ari'] = 0.245\n",
    "df_nmi.loc[df_nmi['parameters'] == 'jideca_b05g01se_34', 'nmi'] = 0.487\n",
    "df_purity.loc[df_purity['parameters'] == 'jideca_b05g01se_34', 'purity'] = 0.291"
   ]
  },
  {
   "cell_type": "code",
   "execution_count": null,
   "metadata": {},
   "outputs": [],
   "source": [
    "#df_ari.to_csv('ari_means.csv')\n",
    "#df_nmi.to_csv('nmi_means.csv')\n",
    "#df_purity.to_csv('purity_means.csv')\n",
    "df_purity.loc[df_purity['types'] == 'real'].sort_values(by='simple')"
   ]
  },
  {
   "cell_type": "code",
   "execution_count": null,
   "metadata": {},
   "outputs": [],
   "source": [
    "SMALL_SIZE = 8\n",
    "MEDIUM_SIZE = 10\n",
    "BIGGER_SIZE = 14\n",
    "\n",
    "plt.rc('font', size=BIGGER_SIZE)          # controls default text sizes\n",
    "plt.rc('axes', titlesize=BIGGER_SIZE)     # fontsize of the axes title\n",
    "plt.rc('axes', labelsize=BIGGER_SIZE)    # fontsize of the x and y labels\n",
    "plt.rc('xtick', labelsize=BIGGER_SIZE)    # fontsize of the tick labels\n",
    "plt.rc('ytick', labelsize=BIGGER_SIZE)    # fontsize of the tick labels\n",
    "plt.rc('legend', fontsize=BIGGER_SIZE)    # legend fontsize\n",
    "plt.rc('figure', titlesize=BIGGER_SIZE)  # fontsize of the figure title"
   ]
  },
  {
   "cell_type": "code",
   "execution_count": null,
   "metadata": {},
   "outputs": [],
   "source": [
    "plt.figure(figsize=(8,5))\n",
    "sns.set_style(\"ticks\", {'axes.grid' : True})\n",
    "colors = ['#455E85', '#D68835']\n",
    "#sns.lineplot(x='simple', y='nmi', data=df_nmi.loc[df_nmi['types'] == 're'].sort_values(by='simple'))\n",
    "#sns.lineplot(x='simple', y='nmi', data=df_nmi.loc[df_nmi['types'] == 'se'].sort_values(by='simple'))\n",
    "sns.lineplot(x='simple', y='nmi', data=df_nmi.sort_values(by='simple'), palette=colors, hue='types', style='types', markers=True, markersize=14)\n",
    "for i in df_nmi.groupby('types'):\n",
    "    for x,y,m in i[1][['simple','nmi','nmi']].values:\n",
    "        if x == '0.1': i = 0\n",
    "        elif x == '0.2': i = 1\n",
    "        elif x == '0.5': i = 2\n",
    "        elif x == '1': i = 3\n",
    "        else: i = 4\n",
    "        plt.text(i - 0.2 , y + 0.0051, m)\n",
    "plt.ylim(0.42, 0.56)\n",
    "plt.ylabel('NMI' + r' ($\\beta$=0.5)', fontsize=16)\n",
    "plt.xlabel(r'$\\gamma$')\n",
    "plt.legend(loc='lower right')\n",
    "plt.savefig('../result/beta_05_nmi_means.png', transparent=True)"
   ]
  },
  {
   "cell_type": "code",
   "execution_count": null,
   "metadata": {},
   "outputs": [],
   "source": [
    "plt.figure(figsize=(8,5))\n",
    "sns.lineplot(x='simple', y='ari', data=df_ari.sort_values(by='simple'), palette=colors, hue='types', style='types', markers=True, markersize=14)\n",
    "for i in df_ari.groupby('types'):\n",
    "    for x,y,m in i[1][['simple','ari','ari']].values:\n",
    "        if x == '0.1': i = 0\n",
    "        elif x == '0.2': i = 1\n",
    "        elif x == '0.5': i = 2\n",
    "        elif x == '1': i = 3\n",
    "        else: i = 4\n",
    "        plt.text(i - 0.2 , y + 0.0051, m)\n",
    "plt.ylim(0.16, 0.32)\n",
    "plt.ylabel('ARI' + r' ($\\beta$=0.5)', fontsize=16)\n",
    "plt.xlabel(r'$\\gamma$')\n",
    "plt.legend(loc='lower right')\n",
    "plt.savefig('../result/beta_05_ari_means.png', transparent=True)"
   ]
  },
  {
   "cell_type": "code",
   "execution_count": null,
   "metadata": {},
   "outputs": [],
   "source": [
    "plt.figure(figsize=(8,5))\n",
    "#sns.lineplot(x='simple', y='purity', data=df_purity.loc[df_purity['types'] == 're'].sort_values(by='simple'))\n",
    "#sns.lineplot(x='simple', y='purity', data=df_purity.loc[df_purity['types'] == 'se'].sort_values(by='simple'))\n",
    "#sns.lineplot(x='simple', y='purity', data=df_purity.sort_values(by='simple'), hue='types', style='types', markers=['o', '^'], markersize=14)\n",
    "colors = ['#D68835', '#455E85']\n",
    "sns.lineplot(x='simple', y='purity', data=df_purity.sort_values(by='simple'), palette=colors, hue='types', style='types', dashes=[(3, 2), (1, 0)], markers=['X', 'o'], markersize=14)\n",
    "for i in df_purity.groupby('types'):\n",
    "    for x,y,m in i[1][['simple','purity','purity']].values:\n",
    "        if x == '0.1': i = 0\n",
    "        elif x == '0.2': i = 1\n",
    "        elif x == '0.5': i = 2\n",
    "        elif x == '1': i = 3\n",
    "        else: i = 4\n",
    "        plt.text(i - 0.2 , y + 0.0051, m)\n",
    "plt.ylim(0.20, 0.36)\n",
    "plt.ylabel('Purity' + r' ($\\beta$=0.5)', fontsize=16)\n",
    "plt.xlabel(r'$\\gamma$')\n",
    "plt.legend(loc='lower right')\n",
    "plt.savefig('../result/beta_05_purity_means.png', transparent=True)"
   ]
  }
 ],
 "metadata": {
  "interpreter": {
   "hash": "2db524e06e9f5f4ffedc911c917cb75e12dbc923643829bf417064a77eb14d37"
  },
  "kernelspec": {
   "display_name": "Python 3.8.3 64-bit",
   "language": "python",
   "name": "python3"
  },
  "language_info": {
   "codemirror_mode": {
    "name": "ipython",
    "version": 3
   },
   "file_extension": ".py",
   "mimetype": "text/x-python",
   "name": "python",
   "nbconvert_exporter": "python",
   "pygments_lexer": "ipython3",
   "version": "3.8.9"
  },
  "orig_nbformat": 4
 },
 "nbformat": 4,
 "nbformat_minor": 2
}
