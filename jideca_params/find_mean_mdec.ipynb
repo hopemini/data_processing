{
 "cells": [
  {
   "cell_type": "code",
   "execution_count": 1,
   "metadata": {},
   "outputs": [],
   "source": [
    "import glob\n",
    "import argparse\n",
    "import pandas as pd\n",
    "import seaborn as sns\n",
    "import matplotlib.pyplot as plt\n",
    "\n",
    "evaluation_methods = ['ari', 'nmi', 'purity']\n",
    "ari_best_result = dict()\n",
    "nmi_best_result = dict()\n",
    "purity_best_result = dict()\n"
   ]
  },
  {
   "cell_type": "code",
   "execution_count": 2,
   "metadata": {},
   "outputs": [],
   "source": [
    "total = 0\n",
    "for dirs in glob.glob('mdec/*'):\n",
    "    for em in evaluation_methods:\n",
    "        with open(dirs + '/' + em + '/total_best_result.txt') as f:\n",
    "            lines = f.read().splitlines()\n",
    "            for i, line in enumerate(lines):\n",
    "                if i == 0: continue\n",
    "                line = line.split('=')[-1].split(':')\n",
    "                k, v = line[0].strip(), line[-1].strip()\n",
    "                if em == 'ari':\n",
    "                    if k in ari_best_result:\n",
    "                        ari_best_result[k] += float(v)\n",
    "                    else:\n",
    "                        ari_best_result[k] = float(v)\n",
    "                elif em == 'nmi':\n",
    "                    if k in nmi_best_result:\n",
    "                        nmi_best_result[k] += float(v)\n",
    "                    else:\n",
    "                        nmi_best_result[k] = float(v)\n",
    "                else:\n",
    "                    if k in purity_best_result:\n",
    "                        purity_best_result[k] += float(v.split('%')[0])\n",
    "                    else:\n",
    "                        purity_best_result[k] = float(v.split('%')[0])\n",
    "    total += 1\n"
   ]
  },
  {
   "cell_type": "code",
   "execution_count": 3,
   "metadata": {},
   "outputs": [
    {
     "name": "stdout",
     "output_type": "stream",
     "text": [
      "{'jideca_midec_re_34': 0.336, 'jideca_mdeca_se_34': 0.282, 'jideca_mdec_re_34': 0.171, 'jideca_midec_se_34': 0.166, 'jideca_mdeca_re_34': 0.09, 'jideca_mdec_se_34': 0.077}\n",
      "{'jideca_midec_re_34': 0.593, 'jideca_mdeca_se_34': 0.548, 'jideca_mdec_re_34': 0.507, 'jideca_midec_se_34': 0.479, 'jideca_mdec_se_34': 0.416, 'jideca_mdeca_re_34': 0.325}\n",
      "{'jideca_midec_re_34': 0.342, 'jideca_mdeca_se_34': 0.336, 'jideca_midec_se_34': 0.263, 'jideca_mdec_re_34': 0.217, 'jideca_mdeca_re_34': 0.195, 'jideca_mdec_se_34': 0.17}\n"
     ]
    }
   ],
   "source": [
    "for k, v in ari_best_result.items():\n",
    "    ari_best_result[k] = round(v / total, 3)\n",
    "for k, v in nmi_best_result.items():\n",
    "    nmi_best_result[k] = round(v / total, 3)\n",
    "for k, v in purity_best_result.items():\n",
    "    purity_best_result[k] = round(v / (total * 100), 3)\n",
    "\n",
    "print(ari_best_result)\n",
    "print(nmi_best_result)\n",
    "print(purity_best_result)"
   ]
  },
  {
   "cell_type": "code",
   "execution_count": 7,
   "metadata": {},
   "outputs": [
    {
     "data": {
      "text/html": [
       "<div>\n",
       "<style scoped>\n",
       "    .dataframe tbody tr th:only-of-type {\n",
       "        vertical-align: middle;\n",
       "    }\n",
       "\n",
       "    .dataframe tbody tr th {\n",
       "        vertical-align: top;\n",
       "    }\n",
       "\n",
       "    .dataframe thead th {\n",
       "        text-align: right;\n",
       "    }\n",
       "</style>\n",
       "<table border=\"1\" class=\"dataframe\">\n",
       "  <thead>\n",
       "    <tr style=\"text-align: right;\">\n",
       "      <th></th>\n",
       "      <th>parameters</th>\n",
       "      <th>nmi</th>\n",
       "    </tr>\n",
       "  </thead>\n",
       "  <tbody>\n",
       "    <tr>\n",
       "      <th>0</th>\n",
       "      <td>jideca_midec_re_34</td>\n",
       "      <td>0.593</td>\n",
       "    </tr>\n",
       "    <tr>\n",
       "      <th>1</th>\n",
       "      <td>jideca_mdeca_se_34</td>\n",
       "      <td>0.548</td>\n",
       "    </tr>\n",
       "    <tr>\n",
       "      <th>2</th>\n",
       "      <td>jideca_mdec_re_34</td>\n",
       "      <td>0.507</td>\n",
       "    </tr>\n",
       "    <tr>\n",
       "      <th>3</th>\n",
       "      <td>jideca_midec_se_34</td>\n",
       "      <td>0.479</td>\n",
       "    </tr>\n",
       "    <tr>\n",
       "      <th>4</th>\n",
       "      <td>jideca_mdec_se_34</td>\n",
       "      <td>0.416</td>\n",
       "    </tr>\n",
       "    <tr>\n",
       "      <th>5</th>\n",
       "      <td>jideca_mdeca_re_34</td>\n",
       "      <td>0.325</td>\n",
       "    </tr>\n",
       "  </tbody>\n",
       "</table>\n",
       "</div>"
      ],
      "text/plain": [
       "           parameters    nmi\n",
       "0  jideca_midec_re_34  0.593\n",
       "1  jideca_mdeca_se_34  0.548\n",
       "2   jideca_mdec_re_34  0.507\n",
       "3  jideca_midec_se_34  0.479\n",
       "4   jideca_mdec_se_34  0.416\n",
       "5  jideca_mdeca_re_34  0.325"
      ]
     },
     "execution_count": 7,
     "metadata": {},
     "output_type": "execute_result"
    }
   ],
   "source": [
    "df_ari = pd.DataFrame(list(ari_best_result.items()), columns=['parameters', 'ari'])\n",
    "df_nmi = pd.DataFrame(list(nmi_best_result.items()), columns=['parameters', 'nmi'])\n",
    "df_purity = pd.DataFrame(list(purity_best_result.items()), columns=['parameters', 'purity'])\n",
    "df_nmi"
   ]
  },
  {
   "cell_type": "code",
   "execution_count": 8,
   "metadata": {},
   "outputs": [
    {
     "data": {
      "text/html": [
       "<div>\n",
       "<style scoped>\n",
       "    .dataframe tbody tr th:only-of-type {\n",
       "        vertical-align: middle;\n",
       "    }\n",
       "\n",
       "    .dataframe tbody tr th {\n",
       "        vertical-align: top;\n",
       "    }\n",
       "\n",
       "    .dataframe thead th {\n",
       "        text-align: right;\n",
       "    }\n",
       "</style>\n",
       "<table border=\"1\" class=\"dataframe\">\n",
       "  <thead>\n",
       "    <tr style=\"text-align: right;\">\n",
       "      <th></th>\n",
       "      <th>parameters</th>\n",
       "      <th>ari</th>\n",
       "    </tr>\n",
       "  </thead>\n",
       "  <tbody>\n",
       "    <tr>\n",
       "      <th>0</th>\n",
       "      <td>jideca_midec_re_34</td>\n",
       "      <td>0.336</td>\n",
       "    </tr>\n",
       "    <tr>\n",
       "      <th>1</th>\n",
       "      <td>jideca_mdeca_se_34</td>\n",
       "      <td>0.282</td>\n",
       "    </tr>\n",
       "    <tr>\n",
       "      <th>2</th>\n",
       "      <td>jideca_mdec_re_34</td>\n",
       "      <td>0.171</td>\n",
       "    </tr>\n",
       "    <tr>\n",
       "      <th>3</th>\n",
       "      <td>jideca_midec_se_34</td>\n",
       "      <td>0.166</td>\n",
       "    </tr>\n",
       "    <tr>\n",
       "      <th>4</th>\n",
       "      <td>jideca_mdeca_re_34</td>\n",
       "      <td>0.090</td>\n",
       "    </tr>\n",
       "    <tr>\n",
       "      <th>5</th>\n",
       "      <td>jideca_mdec_se_34</td>\n",
       "      <td>0.077</td>\n",
       "    </tr>\n",
       "  </tbody>\n",
       "</table>\n",
       "</div>"
      ],
      "text/plain": [
       "           parameters    ari\n",
       "0  jideca_midec_re_34  0.336\n",
       "1  jideca_mdeca_se_34  0.282\n",
       "2   jideca_mdec_re_34  0.171\n",
       "3  jideca_midec_se_34  0.166\n",
       "4  jideca_mdeca_re_34  0.090\n",
       "5   jideca_mdec_se_34  0.077"
      ]
     },
     "execution_count": 8,
     "metadata": {},
     "output_type": "execute_result"
    }
   ],
   "source": [
    "df_ari"
   ]
  },
  {
   "cell_type": "code",
   "execution_count": 9,
   "metadata": {},
   "outputs": [
    {
     "data": {
      "text/html": [
       "<div>\n",
       "<style scoped>\n",
       "    .dataframe tbody tr th:only-of-type {\n",
       "        vertical-align: middle;\n",
       "    }\n",
       "\n",
       "    .dataframe tbody tr th {\n",
       "        vertical-align: top;\n",
       "    }\n",
       "\n",
       "    .dataframe thead th {\n",
       "        text-align: right;\n",
       "    }\n",
       "</style>\n",
       "<table border=\"1\" class=\"dataframe\">\n",
       "  <thead>\n",
       "    <tr style=\"text-align: right;\">\n",
       "      <th></th>\n",
       "      <th>parameters</th>\n",
       "      <th>purity</th>\n",
       "    </tr>\n",
       "  </thead>\n",
       "  <tbody>\n",
       "    <tr>\n",
       "      <th>0</th>\n",
       "      <td>jideca_midec_re_34</td>\n",
       "      <td>0.342</td>\n",
       "    </tr>\n",
       "    <tr>\n",
       "      <th>1</th>\n",
       "      <td>jideca_mdeca_se_34</td>\n",
       "      <td>0.336</td>\n",
       "    </tr>\n",
       "    <tr>\n",
       "      <th>2</th>\n",
       "      <td>jideca_midec_se_34</td>\n",
       "      <td>0.263</td>\n",
       "    </tr>\n",
       "    <tr>\n",
       "      <th>3</th>\n",
       "      <td>jideca_mdec_re_34</td>\n",
       "      <td>0.217</td>\n",
       "    </tr>\n",
       "    <tr>\n",
       "      <th>4</th>\n",
       "      <td>jideca_mdeca_re_34</td>\n",
       "      <td>0.195</td>\n",
       "    </tr>\n",
       "    <tr>\n",
       "      <th>5</th>\n",
       "      <td>jideca_mdec_se_34</td>\n",
       "      <td>0.170</td>\n",
       "    </tr>\n",
       "  </tbody>\n",
       "</table>\n",
       "</div>"
      ],
      "text/plain": [
       "           parameters  purity\n",
       "0  jideca_midec_re_34   0.342\n",
       "1  jideca_mdeca_se_34   0.336\n",
       "2  jideca_midec_se_34   0.263\n",
       "3   jideca_mdec_re_34   0.217\n",
       "4  jideca_mdeca_re_34   0.195\n",
       "5   jideca_mdec_se_34   0.170"
      ]
     },
     "execution_count": 9,
     "metadata": {},
     "output_type": "execute_result"
    }
   ],
   "source": [
    "df_purity"
   ]
  }
 ],
 "metadata": {
  "interpreter": {
   "hash": "9650cb4e16cdd4a8e8e2d128bf38d875813998db22a3c986335f89e0cb4d7bb2"
  },
  "kernelspec": {
   "display_name": "Python 3.8.3 64-bit",
   "language": "python",
   "name": "python3"
  },
  "language_info": {
   "codemirror_mode": {
    "name": "ipython",
    "version": 3
   },
   "file_extension": ".py",
   "mimetype": "text/x-python",
   "name": "python",
   "nbconvert_exporter": "python",
   "pygments_lexer": "ipython3",
   "version": "3.8.3"
  },
  "orig_nbformat": 4
 },
 "nbformat": 4,
 "nbformat_minor": 2
}
