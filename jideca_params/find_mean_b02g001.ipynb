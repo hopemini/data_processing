{
 "cells": [
  {
   "cell_type": "code",
   "execution_count": 31,
   "metadata": {},
   "outputs": [],
   "source": [
    "import glob\n",
    "import argparse\n",
    "import pandas as pd\n",
    "\n",
    "\n",
    "evaluation_methods = ['ari', 'nmi', 'purity']\n",
    "ari_best_result = dict()\n",
    "nmi_best_result = dict()\n",
    "purity_best_result = dict()\n"
   ]
  },
  {
   "cell_type": "code",
   "execution_count": 32,
   "metadata": {},
   "outputs": [],
   "source": [
    "total = 0\n",
    "for dirs in glob.glob('b02g001_re_34/*'):\n",
    "    for em in evaluation_methods:\n",
    "        with open(dirs + '/' + em + '/total_best_result.txt') as f:\n",
    "            lines = f.read().splitlines()\n",
    "            for i, line in enumerate(lines):\n",
    "                if i == 0: continue\n",
    "                line = line.split('=')[-1].split(':')\n",
    "                k, v = line[0].strip(), line[-1].strip()\n",
    "                if em == 'ari':\n",
    "                    if k in ari_best_result:\n",
    "                        ari_best_result[k] += float(v)\n",
    "                    else:\n",
    "                        ari_best_result[k] = float(v)\n",
    "                elif em == 'nmi':\n",
    "                    if k in nmi_best_result:\n",
    "                        nmi_best_result[k] += float(v)\n",
    "                    else:\n",
    "                        nmi_best_result[k] = float(v)\n",
    "                else:\n",
    "                    if k in purity_best_result:\n",
    "                        purity_best_result[k] += float(v.split('%')[0])\n",
    "                    else:\n",
    "                        purity_best_result[k] = float(v.split('%')[0])\n",
    "    total += 1"
   ]
  },
  {
   "cell_type": "code",
   "execution_count": 33,
   "metadata": {},
   "outputs": [
    {
     "name": "stdout",
     "output_type": "stream",
     "text": [
      "{'jideca_b02g001re_34': 0.283}\n",
      "{'jideca_b02g001re_34': 0.595}\n",
      "{'jideca_b02g001re_34': 0.262}\n"
     ]
    }
   ],
   "source": [
    "for k, v in ari_best_result.items():\n",
    "    ari_best_result[k] = round(v / total, 3)\n",
    "for k, v in nmi_best_result.items():\n",
    "    nmi_best_result[k] = round(v / total, 3)\n",
    "for k, v in purity_best_result.items():\n",
    "    purity_best_result[k] = round(v / (total * 100), 3)\n",
    "\n",
    "print(ari_best_result)\n",
    "print(nmi_best_result)\n",
    "print(purity_best_result)"
   ]
  },
  {
   "cell_type": "code",
   "execution_count": 34,
   "metadata": {},
   "outputs": [],
   "source": [
    "df_ari = pd.DataFrame(list(ari_best_result.items()), columns=['parameters', 'ari'])\n",
    "df_nmi = pd.DataFrame(list(nmi_best_result.items()), columns=['parameters', 'nmi'])\n",
    "df_purity = pd.DataFrame(list(purity_best_result.items()), columns=['parameters', 'purity'])\n",
    "\n",
    "df_ari['simple'] = df_ari['parameters'].apply(lambda x: x.split('_')[1].split('g')[1][0:])\n",
    "#df_ari['simple'] = df_ari['simple'].apply(lambda x: float('0.' + x[1]) if x[0] == '0' else float(x))\n",
    "df_ari['simple'] = df_ari['simple'].apply(lambda x: '0.' + x[1] + x[2] if x[0] == '0' else x[0:-2])\n",
    "df_ari['types'] = df_ari['parameters'].apply(lambda x:x.split('_')[1][-2:])\n",
    "df_ari['types'] = df_ari['types'].apply(lambda x: 'real' if x == 're' else 'semantic')\n",
    "\n",
    "df_nmi['simple'] = df_nmi['parameters'].apply(lambda x:x.split('_')[1].split('g')[1][0:])\n",
    "#df_nmi['simple'] = df_nmi['simple'].apply(lambda x: float('0.' + x[1]) if x[0] == '0' else float(x))\n",
    "df_nmi['simple'] = df_nmi['simple'].apply(lambda x: '0.' + x[1] + x[2] if x[0] == '0' else x[0:-2])\n",
    "df_nmi['types'] = df_nmi['parameters'].apply(lambda x:x.split('_')[1][-2:])\n",
    "df_nmi['types'] = df_nmi['types'].apply(lambda x: 'real' if x == 're' else 'semantic')\n",
    "\n",
    "df_purity['simple'] = df_purity['parameters'].apply(lambda x:x.split('_')[1].split('g')[1][0:])\n",
    "#df_purity['simple'] = df_purity['simple'].apply(lambda x: float('0.' + x[1]) if x[0] == '0' else float(x))\n",
    "df_purity['simple'] = df_purity['simple'].apply(lambda x: '0.' + x[1] + x[2] if x[0] == '0' else x[0:-2])\n",
    "df_purity['types'] = df_purity['parameters'].apply(lambda x:x.split('_')[1][-2:])\n",
    "df_purity['types'] = df_purity['types'].apply(lambda x: 'real' if x == 're' else 'semantic')\n"
   ]
  },
  {
   "cell_type": "code",
   "execution_count": 35,
   "metadata": {},
   "outputs": [
    {
     "data": {
      "text/html": [
       "<div>\n",
       "<style scoped>\n",
       "    .dataframe tbody tr th:only-of-type {\n",
       "        vertical-align: middle;\n",
       "    }\n",
       "\n",
       "    .dataframe tbody tr th {\n",
       "        vertical-align: top;\n",
       "    }\n",
       "\n",
       "    .dataframe thead th {\n",
       "        text-align: right;\n",
       "    }\n",
       "</style>\n",
       "<table border=\"1\" class=\"dataframe\">\n",
       "  <thead>\n",
       "    <tr style=\"text-align: right;\">\n",
       "      <th></th>\n",
       "      <th>parameters</th>\n",
       "      <th>purity</th>\n",
       "      <th>simple</th>\n",
       "      <th>types</th>\n",
       "    </tr>\n",
       "  </thead>\n",
       "  <tbody>\n",
       "    <tr>\n",
       "      <th>0</th>\n",
       "      <td>jideca_b02g001re_34</td>\n",
       "      <td>0.262</td>\n",
       "      <td>0.01</td>\n",
       "      <td>real</td>\n",
       "    </tr>\n",
       "  </tbody>\n",
       "</table>\n",
       "</div>"
      ],
      "text/plain": [
       "            parameters  purity simple types\n",
       "0  jideca_b02g001re_34   0.262   0.01  real"
      ]
     },
     "execution_count": 35,
     "metadata": {},
     "output_type": "execute_result"
    }
   ],
   "source": [
    "df_ari.to_csv('../result/jideca_ari_means_b02g001_34.csv')\n",
    "df_nmi.to_csv('../result/jideca_nmi_means_b02g001_34.csv')\n",
    "df_purity.to_csv('../result/jideca_purity_means_b02g001_34.csv')\n",
    "df_purity.loc[df_purity['types'] == 'real'].sort_values(by='simple')"
   ]
  }
 ],
 "metadata": {
  "kernelspec": {
   "display_name": "Python 3.11.0 64-bit",
   "language": "python",
   "name": "python3"
  },
  "language_info": {
   "codemirror_mode": {
    "name": "ipython",
    "version": 3
   },
   "file_extension": ".py",
   "mimetype": "text/x-python",
   "name": "python",
   "nbconvert_exporter": "python",
   "pygments_lexer": "ipython3",
   "version": "3.11.0"
  },
  "orig_nbformat": 4,
  "vscode": {
   "interpreter": {
    "hash": "c261aea317cc0286b3b3261fbba9abdec21eaa57589985bb7a274bf54d6cc0a7"
   }
  }
 },
 "nbformat": 4,
 "nbformat_minor": 2
}
